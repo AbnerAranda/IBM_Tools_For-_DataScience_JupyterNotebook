{
 "cells": [
  {
   "cell_type": "markdown",
   "id": "bf7f4bf6-b810-48f1-9324-99f8dacac0a6",
   "metadata": {},
   "source": [
    "# Data Science Tools and Ecosystem"
   ]
  },
  {
   "cell_type": "markdown",
   "id": "8cc56eaf-dc48-414a-aff8-bb87228ac975",
   "metadata": {},
   "source": [
    "In this notebook, Data Science Tools and Ecosystem are summarized."
   ]
  },
  {
   "cell_type": "markdown",
   "id": "8edc1fb7-9d57-45ec-bfb5-6418bb8e0fdc",
   "metadata": {},
   "source": [
    "**Objectives:**\n",
    "- List of popular languages for Data Science\n",
    "- List of popular libraries for Data Science\n",
    "- Table of popular Data Science Tools\n",
    "- Basic multiply and add arithmetic expression\n",
    "- Converting minutes to hours"
   ]
  },
  {
   "cell_type": "markdown",
   "id": "c1d864c0-a51f-4b69-a5f9-b054e6ef6bb3",
   "metadata": {},
   "source": [
    "Some of the popular languages that Data Scientists use are:\n",
    "\n",
    "1. Python\n",
    "2. R\n",
    "3. C++"
   ]
  },
  {
   "cell_type": "markdown",
   "id": "d675d140-3de5-4a29-b110-c8a02a3d6ecc",
   "metadata": {},
   "source": [
    "Some of the commonly used libraries used by Data Scientists include:\n",
    "\n",
    "1. Pandas\n",
    "2. ggplot\n",
    "3. Matplotlib"
   ]
  },
  {
   "cell_type": "markdown",
   "id": "7004b08d-dc9f-4b6e-b74b-b5f5e26ade73",
   "metadata": {},
   "source": [
    "| Data Science Tools | \n",
    "| -------------------|\n",
    "| R Studio | \n",
    "| TensorFlow | \n",
    "| Apache Spark | "
   ]
  },
  {
   "cell_type": "markdown",
   "id": "6fbdf68a-722f-4f0b-b453-42db9aa411fe",
   "metadata": {},
   "source": [
    "### Below are a few examples of evaluating arithmetic expressions in Python."
   ]
  },
  {
   "cell_type": "code",
   "execution_count": 1,
   "id": "3eda4252-151c-4387-a1a8-60dda8a83900",
   "metadata": {},
   "outputs": [
    {
     "data": {
      "text/plain": [
       "17"
      ]
     },
     "execution_count": 1,
     "metadata": {},
     "output_type": "execute_result"
    }
   ],
   "source": [
    "# This is a simple arithmetic expression to multiply then add integers\n",
    "(3*4)+5"
   ]
  },
  {
   "cell_type": "code",
   "execution_count": 2,
   "id": "6c09cef9-11a4-4c9a-89fe-b20d435d805b",
   "metadata": {},
   "outputs": [
    {
     "name": "stdout",
     "output_type": "stream",
     "text": [
      "3.3333333333333335\n"
     ]
    }
   ],
   "source": [
    "# This will convert 200 minutes to hours by dividing by 60\n",
    "minutes = 200\n",
    "hours = minutes/60\n",
    "print(hours)"
   ]
  },
  {
   "cell_type": "markdown",
   "id": "6a422ee0-74f0-4fd1-9aa9-63ba9b0a4bfa",
   "metadata": {},
   "source": [
    "## Author"
   ]
  },
  {
   "cell_type": "markdown",
   "id": "91411889-f724-4e53-a797-f36a84e66c82",
   "metadata": {},
   "source": [
    "Abner Alberto Aranda Nassar"
   ]
  },
  {
   "cell_type": "code",
   "execution_count": null,
   "id": "6f91cef8-e37f-49dd-9d02-3b24935ef8a5",
   "metadata": {},
   "outputs": [],
   "source": []
  }
 ],
 "metadata": {
  "kernelspec": {
   "display_name": "Python 3 (ipykernel)",
   "language": "python",
   "name": "python3"
  },
  "language_info": {
   "codemirror_mode": {
    "name": "ipython",
    "version": 3
   },
   "file_extension": ".py",
   "mimetype": "text/x-python",
   "name": "python",
   "nbconvert_exporter": "python",
   "pygments_lexer": "ipython3",
   "version": "3.11.9"
  }
 },
 "nbformat": 4,
 "nbformat_minor": 5
}
